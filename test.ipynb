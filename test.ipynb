{
 "metadata": {
  "language_info": {
   "codemirror_mode": {
    "name": "ipython",
    "version": 3
   },
   "file_extension": ".py",
   "mimetype": "text/x-python",
   "name": "python",
   "nbconvert_exporter": "python",
   "pygments_lexer": "ipython3",
   "version": "3.8.3-final"
  },
  "orig_nbformat": 2,
  "kernelspec": {
   "name": "python3",
   "display_name": "Python 3"
  }
 },
 "nbformat": 4,
 "nbformat_minor": 2,
 "cells": [
  {
   "cell_type": "code",
   "execution_count": 1,
   "metadata": {
    "tags": []
   },
   "outputs": [
    {
     "output_type": "stream",
     "name": "stdout",
     "text": "人類:33歲\n"
    }
   ],
   "source": [
    "#狗人歲數\n",
    "\n",
    "people=0\n",
    "\n",
    "dog=5\n",
    "\n",
    "if(dog<=2):\n",
    "    people=dog*10.5\n",
    "\n",
    "else:\n",
    "      people= 21+(dog-2)*4\n",
    "\n",
    "\n",
    "print(\"人類:\"+str(people)+\"歲\")\n",
    "\n",
    "\n"
   ]
  },
  {
   "cell_type": "code",
   "execution_count": 19,
   "metadata": {
    "tags": []
   },
   "outputs": [
    {
     "output_type": "stream",
     "name": "stdout",
     "text": "2\n3\n5\n7\n11\n13\n17\n19\n23\n29\n31\n37\n41\n43\n47\n53\n59\n61\n總數:18\n"
    }
   ],
   "source": [
    "#質數\n",
    "i=2\n",
    "j=2\n",
    "count=0\n",
    "flag=True\n",
    "\n",
    "for i in range(2,62):\n",
    "   for j in range(2,i):   \n",
    "       flag=True\n",
    "       if(i%j==0): \n",
    "           flag=False \n",
    "           break   \n",
    "   if flag: \n",
    "        count+=1\n",
    "        print(i)  \n",
    "\n",
    "print(\"總數:%d\"%count)"
   ]
  },
  {
   "cell_type": "code",
   "execution_count": 32,
   "metadata": {
    "tags": []
   },
   "outputs": [
    {
     "output_type": "stream",
     "name": "stdout",
     "text": "5\n"
    }
   ],
   "source": [
    "#質數2\n",
    "num=int(input(\"請輸入數字:\"))\n",
    "i=2\n",
    "flag=True\n",
    " \n",
    "while i<num: \n",
    "    if num%i==0:\n",
    "        flag=False\n",
    "        break  \n",
    "    i+=1\n",
    "\n",
    "if flag:\n",
    "        print(i)\n",
    "else :\n",
    "        print(\"不是\")        "
   ]
  },
  {
   "cell_type": "code",
   "execution_count": 6,
   "metadata": {
    "tags": []
   },
   "outputs": [
    {
     "output_type": "stream",
     "name": "stdout",
     "text": "水仙花數:\n153\n370\n371\n407\n"
    }
   ],
   "source": [
    "#水仙數\n",
    "i=100 \n",
    "print(\"水仙花數:\")      \n",
    "while i < 1000:\n",
    "    hun=i//100#百\n",
    "    ten=i//10%10#十\n",
    "    one=i%10#個位\n",
    "    if(hun**3+ten**3+one**3==i):\n",
    "        print(i)\n",
    "\n",
    "    i+=1\n"
   ]
  },
  {
   "cell_type": "code",
   "execution_count": 38,
   "metadata": {
    "tags": []
   },
   "outputs": [
    {
     "output_type": "stream",
     "name": "stdout",
     "text": "*\n  ***\n *****\n*******\n"
    }
   ],
   "source": [
    "n = 4\n",
    "a=0\n",
    "b=0\n",
    "\n",
    "for i in range(n):\n",
    "    for a in range(n-i-1):\n",
    "        print(\" \", end='')\n",
    "    for b in range(2*i+1):\n",
    "        print('*', end='')\n",
    "    print()"
   ]
  },
  {
   "cell_type": "code",
   "execution_count": 81,
   "metadata": {
    "tags": []
   },
   "outputs": [
    {
     "output_type": "stream",
     "name": "stdout",
     "text": "1*1=1\t\n2*1=2\t2*2=4\t\n3*1=3\t3*2=6\t3*3=9\t\n4*1=4\t4*2=8\t4*3=12\t4*4=16\t\n5*1=5\t5*2=10\t5*3=15\t5*4=20\t5*5=25\t\n6*1=6\t6*2=12\t6*3=18\t6*4=24\t6*5=30\t6*6=36\t\n7*1=7\t7*2=14\t7*3=21\t7*4=28\t7*5=35\t7*6=42\t7*7=49\t\n8*1=8\t8*2=16\t8*3=24\t8*4=32\t8*5=40\t8*6=48\t8*7=56\t8*8=64\t\n9*1=9\t9*2=18\t9*3=27\t9*4=36\t9*5=45\t9*6=54\t9*7=63\t9*8=72\t9*9=81\t\n"
    }
   ],
   "source": [
    "i=0\n",
    "while i<9:\n",
    "    i+=1\n",
    "    j=0\n",
    "    while j<i:\n",
    "        j+=1\n",
    "        result=i*j\n",
    "        print(f'{i}*{j}={result}\\t',end='')\n",
    "    print()    "
   ]
  },
  {
   "cell_type": "code",
   "execution_count": 78,
   "metadata": {
    "tags": []
   },
   "outputs": [
    {
     "output_type": "stream",
     "name": "stdout",
     "text": "1*1=1 \n2*1=2 2*2=4 \n3*1=3 3*2=6 3*3=9 \n4*1=4 4*2=8 4*3=12 4*4=16 \n5*1=5 5*2=10 5*3=15 5*4=20 5*5=25 \n6*1=6 6*2=12 6*3=18 6*4=24 6*5=30 6*6=36 \n7*1=7 7*2=14 7*3=21 7*4=28 7*5=35 7*6=42 7*7=49 \n8*1=8 8*2=16 8*3=24 8*4=32 8*5=40 8*6=48 8*7=56 8*8=64 \n9*1=9 9*2=18 9*3=27 9*4=36 9*5=45 9*6=54 9*7=63 9*8=72 9*9=81 \n"
    }
   ],
   "source": [
    "n = 10\n",
    "\n",
    "\n",
    "for i in range(1,n):\n",
    "    for a in range(1, i+1):\n",
    "        result = i*a\n",
    "        print(\"%d*%d=%d \" % (i, a, result), end='')\n",
    "    print()\n"
   ]
  },
  {
   "cell_type": "code",
   "execution_count": 5,
   "metadata": {
    "tags": []
   },
   "outputs": [
    {
     "output_type": "stream",
     "name": "stdout",
     "text": "2\n3\n5\n7\n11\n13\n17\n19\n23\n29\n31\n37\n41\n43\n47\n53\n59\n61\n67\n71\n73\n79\n83\n89\n97\n總數:25\n執行時間: 0.0019998550415039062 秒\n"
    }
   ],
   "source": [
    "#質數\n",
    "\n",
    "begin = time()\n",
    "\n",
    "i=2\n",
    "j=2\n",
    "count=0\n",
    "flag=True\n",
    "\n",
    "for i in range(2,101):\n",
    "   for j in range(2,i):   \n",
    "       flag=True\n",
    "       if(i%j==0): \n",
    "           flag=False \n",
    "           break   \n",
    "   if flag: \n",
    "        count+=1\n",
    "        print(i)  \n",
    "\n",
    "print(\"總數:%d\"%count)\n",
    "\n",
    "end = time()\n",
    "\n",
    "print(\"執行時間:\",end-begin,\"秒\")"
   ]
  },
  {
   "cell_type": "code",
   "execution_count": 2,
   "metadata": {
    "tags": []
   },
   "outputs": [
    {
     "output_type": "stream",
     "name": "stdout",
     "text": "['h', 'e', 'l', 'l', 'o']\n"
    }
   ],
   "source": [
    "a=\"hello\"\n",
    "\n",
    "s=[]\n",
    "\n",
    "for i in a:\n",
    "    s.append(i)\n",
    "\n",
    "print(s)    "
   ]
  },
  {
   "cell_type": "code",
   "execution_count": 3,
   "metadata": {
    "tags": []
   },
   "outputs": [
    {
     "output_type": "stream",
     "name": "stdout",
     "text": "修改前: ['孫', '悟', '空', '孫', '悟', '飯']\n修改後: ['人', '悟', '空', '孫', '悟', '飯']\n"
    }
   ],
   "source": [
    "a = [\"孫\",\"悟\",\"空\",\"孫\",\"悟\",\"飯\"]\n",
    "print(\"修改前:\",a)\n",
    "\n",
    "a[0]=\"人\"\n",
    "\n",
    "print(\"修改後:\",a)"
   ]
  },
  {
   "cell_type": "code",
   "execution_count": 4,
   "metadata": {
    "tags": []
   },
   "outputs": [
    {
     "output_type": "stream",
     "name": "stdout",
     "text": "['孫', '悟', '孫', '悟', '飯']\n"
    }
   ],
   "source": [
    "#刪除\n",
    "a = [\"孫\",\"悟\",\"空\",\"孫\",\"悟\",\"飯\"]\n",
    "del a[2]\n",
    "\n",
    "print(a)"
   ]
  },
  {
   "cell_type": "code",
   "execution_count": 5,
   "metadata": {
    "tags": []
   },
   "outputs": [
    {
     "output_type": "stream",
     "name": "stdout",
     "text": "['h', 'e', 'l', 'l', 'o', '空', '孫', '悟', '飯']\n"
    }
   ],
   "source": [
    "a = [\"孫\",\"悟\",\"空\",\"孫\",\"悟\",\"飯\"]\n",
    "a[0:2]=\"hello\"\n",
    "print(a)"
   ]
  },
  {
   "cell_type": "code",
   "execution_count": 13,
   "metadata": {
    "tags": []
   },
   "outputs": [
    {
     "output_type": "stream",
     "name": "stdout",
     "text": "孫悟空\n特南克斯\n柯南\n龜仙人\n"
    }
   ],
   "source": [
    "s1 = [\"孫悟空\", \"特南克斯\", \"柯南\", \"龜仙人\"]\n",
    "\n",
    "for i in (s1):\n",
    "    print(i)"
   ]
  },
  {
   "cell_type": "code",
   "execution_count": 9,
   "metadata": {
    "tags": []
   },
   "outputs": [
    {
     "output_type": "stream",
     "name": "stdout",
     "text": "[0, 1, 2, 3, 4]\n"
    }
   ],
   "source": [
    "r=range(5) \n",
    "print(list(r))"
   ]
  },
  {
   "cell_type": "code",
   "execution_count": 14,
   "metadata": {
    "tags": []
   },
   "outputs": [
    {
     "output_type": "stream",
     "name": "stdout",
     "text": "a= [1, 2, 3] 117268672\nb= [10, 2, 3] 115175360\n"
    }
   ],
   "source": [
    "a=[1,2,3]\n",
    "b=a\n",
    "#b[0]=10\n",
    "b=[10,2,3]\n",
    "\n",
    "print(\"a=\",a,id(a))\n",
    "print(\"b=\",b,id(b))"
   ]
  },
  {
   "cell_type": "code",
   "execution_count": 22,
   "metadata": {
    "tags": []
   },
   "outputs": [
    {
     "output_type": "stream",
     "name": "stdout",
     "text": "[1, 2, 3] [1, 2, 3]\n124710784 124707840\nFalse\nTrue\nTrue\n"
    }
   ],
   "source": [
    "a=[1,2,3]\n",
    "n=[1,2,3]\n",
    "print(a,n)\n",
    "print(id(a),id(n))\n",
    "print(a is n)#地址id\n",
    "print(a==n)\n",
    "\n",
    "b=a\n",
    "print(a is b)\n"
   ]
  },
  {
   "cell_type": "code",
   "execution_count": 18,
   "metadata": {
    "tags": []
   },
   "outputs": [
    {
     "output_type": "stream",
     "name": "stdout",
     "text": "name:孫悟空\nage:24\ngender:male\n孫悟空\n24\nmale\nname = 孫悟空\nage = 24\ngender = male\n"
    }
   ],
   "source": [
    "#字典列出\n",
    "a = {'name': '孫悟空', 'age': 24, 'gender': 'male'}\n",
    "\n",
    "#取鍵\n",
    "for k in a.keys():\n",
    "    print(f'{k}:{a[k]}')\n",
    "\n",
    "#取值    \n",
    "for i in a.values():\n",
    "    print(i)\n",
    "\n",
    "#\n",
    "for c,v in a.items():\n",
    "    print(c,'=',v)    "
   ]
  },
  {
   "cell_type": "code",
   "execution_count": 104,
   "metadata": {
    "tags": []
   },
   "outputs": [
    {
     "output_type": "stream",
     "name": "stdout",
     "text": "name\n"
    }
   ],
   "source": [
    "#字典列出\n",
    "a = {'name': '孫悟空', 'age': 24, 'gender': 'male'}\n",
    "b=list(a.items())\n",
    "\n",
    "for i in b:\n",
    "      print(b[0][0])\n",
    "      break\n",
    "    \n",
    "\n"
   ]
  },
  {
   "cell_type": "code",
   "execution_count": 107,
   "metadata": {
    "tags": []
   },
   "outputs": [
    {
     "output_type": "stream",
     "name": "stdout",
     "text": "1\n"
    }
   ],
   "source": [
    "a=[(1,2),(3,4)]\n",
    "for i in a:\n",
    "    print(a[0][0])\n",
    "    break"
   ]
  }
 ]
}